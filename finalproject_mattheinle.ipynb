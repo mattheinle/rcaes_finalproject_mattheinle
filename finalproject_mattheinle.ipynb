{
 "cells": [
  {
   "cell_type": "markdown",
   "id": "04aa1912-a421-46e0-9f0b-d19a36f6468e",
   "metadata": {},
   "source": [
    "# Final Project: Comparing Water Chemistry Data Quality\n",
    "\n",
    "### Matt Heinle"
   ]
  },
  {
   "cell_type": "code",
   "execution_count": null,
   "id": "a5e4327d-7619-41f2-b149-10cb79462e09",
   "metadata": {},
   "outputs": [],
   "source": []
  }
 ],
 "metadata": {
  "kernelspec": {
   "display_name": "Python 3 (ipykernel)",
   "language": "python",
   "name": "python3"
  },
  "language_info": {
   "codemirror_mode": {
    "name": "ipython",
    "version": 3
   },
   "file_extension": ".py",
   "mimetype": "text/x-python",
   "name": "python",
   "nbconvert_exporter": "python",
   "pygments_lexer": "ipython3",
   "version": "3.9.18"
  }
 },
 "nbformat": 4,
 "nbformat_minor": 5
}
